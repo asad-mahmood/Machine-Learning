{
 "cells": [
  {
   "cell_type": "markdown",
   "metadata": {},
   "source": [
    "# Machine Learning - Weighted KNN"
   ]
  },
  {
   "cell_type": "markdown",
   "metadata": {},
   "source": [
    "   "
   ]
  },
  {
   "cell_type": "markdown",
   "metadata": {},
   "source": [
    "# Author: Asad Mahmood"
   ]
  },
  {
   "cell_type": "markdown",
   "metadata": {},
   "source": [
    "<a id='toc'> </a>\n",
    "## Table of Contents"
   ]
  },
  {
   "cell_type": "markdown",
   "metadata": {},
   "source": [
    "1. [**Weighted KNN Self Implemenation**](#Start)<br/>\n",
    "2. [**Distance Fuctions to used in KNN implementation**](#DistFunc)<br/>\n",
    "3. [**Weighted 3 - NN implemenatation**](#3NN) <br/>\n",
    "4. [**Prediction of Labels of test points**](#Pred)<br/>\n",
    "5. [**Accuray for each distance type**](#Accuracy)<br/>\n",
    "6. [**Conclusion**](#Conclusion)<br/>"
   ]
  },
  {
   "cell_type": "markdown",
   "metadata": {},
   "source": [
    "<a id='Start'> </a>\n",
    "## Weighted KNN Self Implemenation"
   ]
  },
  {
   "cell_type": "code",
   "execution_count": 1,
   "metadata": {},
   "outputs": [],
   "source": [
    "# Importing Libraries\n",
    "import numpy as np\n",
    "from scipy.spatial import Voronoi, voronoi_plot_2d\n",
    "import matplotlib.pyplot as plt\n",
    "import pandas as pd\n",
    "import scipy"
   ]
  },
  {
   "cell_type": "markdown",
   "metadata": {},
   "source": [
    "Importing libraries that are gonna be used to implement this algorithim"
   ]
  },
  {
   "cell_type": "code",
   "execution_count": 2,
   "metadata": {},
   "outputs": [],
   "source": [
    "# Importing the dataset\n",
    "dataset = pd.read_csv('knnData.csv')\n",
    "\n",
    "#Training Set extraction\n",
    "train = dataset.iloc[:, [0, 1]].values\n",
    "train_Labels = dataset.iloc[:, 2].values \n",
    "\n",
    "#Test Set Extraction\n",
    "test = dataset.iloc[:, [3, 4]].values\n",
    "test_Labels = dataset.iloc[:, 5].values"
   ]
  },
  {
   "cell_type": "markdown",
   "metadata": {},
   "source": [
    "In the above cell I have imported the dataset as a dataframe and have divided it into train and test sets. I have also separated their labels. They are in the form of mupy arrays."
   ]
  },
  {
   "cell_type": "markdown",
   "metadata": {},
   "source": [
    "[Return to Table of Contents](#toc) <br/>"
   ]
  },
  {
   "cell_type": "markdown",
   "metadata": {},
   "source": [
    "<a id='DistFunc'> </a>\n",
    "## Distance Fuctions to used in KNN implementation"
   ]
  },
  {
   "cell_type": "markdown",
   "metadata": {},
   "source": [
    "#### Manhattan Distance"
   ]
  },
  {
   "cell_type": "code",
   "execution_count": 3,
   "metadata": {},
   "outputs": [],
   "source": [
    "def ManhattanDistance(x,y):\n",
    "    dist = abs(x[0] - y[0]) + abs(x[1] - y[1])\n",
    "    return dist"
   ]
  },
  {
   "cell_type": "markdown",
   "metadata": {},
   "source": [
    "Here I have created a function for calculating Manhattan Distance. It is also know as $L_1$ Norm too."
   ]
  },
  {
   "cell_type": "markdown",
   "metadata": {},
   "source": [
    "#### Euclidian Distance"
   ]
  },
  {
   "cell_type": "code",
   "execution_count": 4,
   "metadata": {},
   "outputs": [],
   "source": [
    "import math  \n",
    "\n",
    "def EuclideanDistance(x,y):\n",
    "    dist = math.sqrt(sum([(a - b) ** 2 for a, b in zip(x, y)]))\n",
    "    return dist"
   ]
  },
  {
   "cell_type": "markdown",
   "metadata": {},
   "source": [
    "Here I have created a function for calculating Euclidian Distance. It is also know as $L_2$ Norm too."
   ]
  },
  {
   "cell_type": "markdown",
   "metadata": {},
   "source": [
    "#### L Infinity Norm"
   ]
  },
  {
   "cell_type": "code",
   "execution_count": 5,
   "metadata": {},
   "outputs": [],
   "source": [
    "def LInfinityNorm(x,y):\n",
    "    dist = max(abs(x[0] - y[0]),abs(x[1] - y[1]))\n",
    "    return dist"
   ]
  },
  {
   "cell_type": "markdown",
   "metadata": {},
   "source": [
    "Here I have created a function for L Infinity Norm."
   ]
  },
  {
   "cell_type": "markdown",
   "metadata": {},
   "source": [
    "[Return to Table of Contents](#toc) <br/>"
   ]
  },
  {
   "cell_type": "markdown",
   "metadata": {},
   "source": [
    "<a id='3NN'> </a>\n",
    "## Weighted 3 - NN implemenatation"
   ]
  },
  {
   "cell_type": "code",
   "execution_count": 6,
   "metadata": {},
   "outputs": [],
   "source": [
    "'''\n",
    "This is a weighted KNN implementation and it takes in the following paramenters\n",
    "    1. train : training set \n",
    "    2. train_labels : training set labels\n",
    "    3. test : test point\n",
    "    4. distanceFunction : We can pass a numeric value between 1 to 3 for the distance function. This fuction can calculate the K\n",
    "                          nearest neighbours using \"Manhattan Distance\" which can be called by passing 1 as a parameter, \n",
    "                          \"Euclidian Distance\" can be used by passing 2 as a parameter and \"L Infinity Norm\" by passing 3 as a\n",
    "                          parameter.\n",
    "    5. k : A numeric value can be passed here to select the number of nearest neighbours to use.                     \n",
    "'''\n",
    "\n",
    "def weightedKnn(train, train_labels, test, distanceFunction, k):\n",
    "    \n",
    "    # This will store the k nearest neighbours in it along with their training labels \n",
    "    neighbours=[]\n",
    "\n",
    "    # This loops through the training set points and calculates the distance in this case manhattan distance \n",
    "    # between the test point and all the training set points. Then it appends it to neighbours list along \n",
    "    # with the training set labels.\n",
    "    \n",
    "    if distanceFunction == 1:\n",
    "        for trainPt in range(40):\n",
    "            manhattan_dist = ManhattanDistance(train[trainPt],test)\n",
    "            neighbours.append((manhattan_dist,train_labels[trainPt]))\n",
    "    \n",
    "    elif distanceFunction == 2:\n",
    "        for trainPt in range(40):\n",
    "            euclidian_dist = EuclideanDistance(train[trainPt],test)\n",
    "            neighbours.append((euclidian_dist,train_labels[trainPt]))\n",
    "            \n",
    "    elif distanceFunction == 3:\n",
    "        for trainPt in range(40):\n",
    "            LInfinity_dist = LInfinityNorm(train[trainPt],test)\n",
    "            neighbours.append((LInfinity_dist,train_labels[trainPt]))\n",
    "    \n",
    "    else:\n",
    "        print(\"Wrong Distance function number entered. Try again in the range of 1 to 3.\")\n",
    "        \n",
    "    # Now the neighbours list is sorted and only the top k neighbours are left behind for voting.\n",
    "    neighbours = sorted(neighbours)[:k]\n",
    "\n",
    "    # These variables will be used to store the cummilative weighted votes for each class/label.\n",
    "    VotesClassA = 0    # This variable will store votes if the label is \"-1\"\n",
    "    VotesClassB = 0    # This variable will store votes if the label is \"1\"\n",
    "    \n",
    "    # We will loop through the neighbours and check if they match a certain class then we will divide their vote\n",
    "    # i.e \"1\" by their distance calculated earlier using the distance formula. The votes will be added and the \n",
    "    # label with higher value will be assigned to the test point.\n",
    "    for n in neighbours: \n",
    "        if n[1] == -1: \n",
    "            VotesClassA += (1 / (n[0])**2) \n",
    "              \n",
    "        elif n[1] == 1:  \n",
    "            VotesClassB += (1 / (n[0])**2) \n",
    "              \n",
    "    \n",
    "    if VotesClassA>VotesClassB:\n",
    "        return -1\n",
    "    else:\n",
    "        return +1"
   ]
  },
  {
   "cell_type": "markdown",
   "metadata": {},
   "source": [
    "This is an implementation of Weighted KNN using Manhattan, Eulidian and L Infinity distance to measusre the distance between the test point and the training points. This function takes input of all the available training points, the labels of the afore mentioned training pints, one test point and the number of neighbours we need to look at to decide the label of the test point."
   ]
  },
  {
   "cell_type": "markdown",
   "metadata": {},
   "source": [
    "[Return to Table of Contents](#toc) <br/>"
   ]
  },
  {
   "cell_type": "markdown",
   "metadata": {},
   "source": [
    "<a id='Pred'> </a>\n",
    "## Prediction of Labels of test points"
   ]
  },
  {
   "cell_type": "code",
   "execution_count": 7,
   "metadata": {},
   "outputs": [],
   "source": [
    "predicted_Labels_ManhattanDistance = []\n",
    "predicted_Labels_EuclidianDistance = []\n",
    "predicted_Labels_LInfinityNorm = []\n",
    "\n",
    "for i in range(40):\n",
    "    predicted_Labels_ManhattanDistance.append(weightedKnn(train, train_Labels, test[i], 1, 3))\n",
    "    predicted_Labels_EuclidianDistance.append(weightedKnn(train, train_Labels, test[i], 2, 3))\n",
    "    predicted_Labels_LInfinityNorm.append(weightedKnn(train, train_Labels, test[i], 3, 3))"
   ]
  },
  {
   "cell_type": "markdown",
   "metadata": {},
   "source": [
    "Over here we predict the labels of the test points and store them separetly based on the type of distance function."
   ]
  },
  {
   "cell_type": "markdown",
   "metadata": {},
   "source": [
    "### Confusion Matrix"
   ]
  },
  {
   "cell_type": "code",
   "execution_count": 8,
   "metadata": {},
   "outputs": [
    {
     "data": {
      "text/plain": [
       "array([[24,  2],\n",
       "       [ 3, 11]], dtype=int64)"
      ]
     },
     "execution_count": 8,
     "metadata": {},
     "output_type": "execute_result"
    }
   ],
   "source": [
    "# Making the Confusion Matrix - Manhattan Distance\n",
    "from sklearn.metrics import confusion_matrix\n",
    "cm_MD = confusion_matrix(test_Labels, predicted_Labels_ManhattanDistance)\n",
    "cm_MD"
   ]
  },
  {
   "cell_type": "markdown",
   "metadata": {},
   "source": [
    "Here we have the confusion matrix with the following results:\n",
    " + True Positive: 23 instances\n",
    " + True Negative: 11 instances\n",
    " + False Positive: 3 instances\n",
    " + False Negative: 3 instances"
   ]
  },
  {
   "cell_type": "code",
   "execution_count": 9,
   "metadata": {},
   "outputs": [
    {
     "data": {
      "text/plain": [
       "array([[23,  3],\n",
       "       [ 4, 10]], dtype=int64)"
      ]
     },
     "execution_count": 9,
     "metadata": {},
     "output_type": "execute_result"
    }
   ],
   "source": [
    "# Making the Confusion Matrix - Euclidian Distance\n",
    "cm_ED = confusion_matrix(test_Labels, predicted_Labels_EuclidianDistance)\n",
    "cm_ED"
   ]
  },
  {
   "cell_type": "markdown",
   "metadata": {},
   "source": [
    "Here we have the confusion matrix with the following results:\n",
    " + True Positive: 23 instances\n",
    " + True Negative: 11 instances\n",
    " + False Positive: 3 instances\n",
    " + False Negative: 3 instances"
   ]
  },
  {
   "cell_type": "code",
   "execution_count": 10,
   "metadata": {},
   "outputs": [
    {
     "data": {
      "text/plain": [
       "array([[24,  2],\n",
       "       [ 3, 11]], dtype=int64)"
      ]
     },
     "execution_count": 10,
     "metadata": {},
     "output_type": "execute_result"
    }
   ],
   "source": [
    "# Making the Confusion Matrix - L Infinity Norm\n",
    "cm_LN = confusion_matrix(test_Labels, predicted_Labels_LInfinityNorm)\n",
    "cm_LN"
   ]
  },
  {
   "cell_type": "markdown",
   "metadata": {},
   "source": [
    "Here we have the confusion matrix with the following results:\n",
    " + True Positive: 24 instances\n",
    " + True Negative: 11 instances\n",
    " + False Positive: 2 instances\n",
    " + False Negative: 3 instances"
   ]
  },
  {
   "cell_type": "markdown",
   "metadata": {},
   "source": [
    "[Return to Table of Contents](#toc) <br/>"
   ]
  },
  {
   "cell_type": "markdown",
   "metadata": {},
   "source": [
    "<a id='Accuracy'> </a>\n",
    "## Accuray for each distance type"
   ]
  },
  {
   "cell_type": "markdown",
   "metadata": {},
   "source": [
    "#### Manhattan Distance"
   ]
  },
  {
   "cell_type": "code",
   "execution_count": 11,
   "metadata": {},
   "outputs": [
    {
     "name": "stdout",
     "output_type": "stream",
     "text": [
      "The accuracy achieved with Manhattan distance is  87.5 Pct.\n"
     ]
    }
   ],
   "source": [
    "accuracyPct_MD = ((cm_MD[0,0] + cm_MD[1,1])/(cm_MD[0,0] + cm_MD[0,1] + cm_MD[1,0] + cm_MD[1,1]))*100\n",
    "print(\"The accuracy achieved with Manhattan distance is \", accuracyPct_MD, \"Pct.\")"
   ]
  },
  {
   "cell_type": "markdown",
   "metadata": {},
   "source": [
    "#### Euclidean Distance"
   ]
  },
  {
   "cell_type": "code",
   "execution_count": 12,
   "metadata": {},
   "outputs": [
    {
     "name": "stdout",
     "output_type": "stream",
     "text": [
      "The accuracy achieved with Euclidian distance is  82.5 Pct.\n"
     ]
    }
   ],
   "source": [
    "accuracyPct_ED = ((cm_ED[0,0] + cm_ED[1,1])/(cm_ED[0,0] + cm_ED[0,1] + cm_ED[1,0] + cm_ED[1,1]))*100\n",
    "print(\"The accuracy achieved with Euclidian distance is \", accuracyPct_ED, \"Pct.\")"
   ]
  },
  {
   "cell_type": "markdown",
   "metadata": {},
   "source": [
    "#### L Infinity Norm"
   ]
  },
  {
   "cell_type": "code",
   "execution_count": 13,
   "metadata": {},
   "outputs": [
    {
     "name": "stdout",
     "output_type": "stream",
     "text": [
      "The accuracy achieved with Euclidian distance is  87.5 Pct.\n"
     ]
    }
   ],
   "source": [
    "accuracyPct_LN = ((cm_LN[0,0] + cm_LN[1,1])/(cm_LN[0,0] + cm_LN[0,1] + cm_LN[1,0] + cm_LN[1,1]))*100\n",
    "print(\"The accuracy achieved with Euclidian distance is \", accuracyPct_LN, \"Pct.\")"
   ]
  },
  {
   "cell_type": "markdown",
   "metadata": {},
   "source": [
    "[Return to Table of Contents](#toc) <br/>"
   ]
  },
  {
   "cell_type": "markdown",
   "metadata": {},
   "source": [
    "<a id='Conclusion'> </a>\n",
    "## Conclusion"
   ]
  },
  {
   "cell_type": "markdown",
   "metadata": {},
   "source": [
    "As seen through the accuracy rates from each distance type it is apparant that there is no difference between using **Manhattan distance** and **L Infinity Norm** as both have the same accuracy rate of **87.5%** whereas we see a decreased accuracy rate when using **Euclidean Distance** which is **82.5%**"
   ]
  },
  {
   "cell_type": "markdown",
   "metadata": {},
   "source": [
    "[Return to Table of Contents](#toc) <br/>"
   ]
  }
 ],
 "metadata": {
  "kernelspec": {
   "display_name": "Python 3",
   "language": "python",
   "name": "python3"
  },
  "language_info": {
   "codemirror_mode": {
    "name": "ipython",
    "version": 3
   },
   "file_extension": ".py",
   "mimetype": "text/x-python",
   "name": "python",
   "nbconvert_exporter": "python",
   "pygments_lexer": "ipython3",
   "version": "3.7.3"
  }
 },
 "nbformat": 4,
 "nbformat_minor": 2
}
